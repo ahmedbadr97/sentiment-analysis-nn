{
 "cells": [
  {
   "cell_type": "markdown",
   "metadata": {},
   "source": [
    "# Imports"
   ]
  },
  {
   "cell_type": "code",
   "execution_count": 13,
   "metadata": {},
   "outputs": [],
   "source": [
    "import helper\n",
    "from collections import Counter\n",
    "import numpy as np\n",
    "from IPython.display import display\n"
   ]
  },
  {
   "cell_type": "markdown",
   "metadata": {
    "pycharm": {
     "name": "#%% md\n"
    }
   },
   "source": [
    "# Load and view Dataset"
   ]
  },
  {
   "cell_type": "code",
   "execution_count": 2,
   "metadata": {
    "pycharm": {
     "name": "#%%\n"
    }
   },
   "outputs": [
    {
     "name": "stdout",
     "output_type": "stream",
     "text": [
      "bromwell high is a cartoon comedy . it ran at the same time as some other programs about school life  such as  teachers  . my   years in the teaching profession lead me to believe that bromwell high  s satire is much closer to reality than is  teachers  . the scramble to survive financially  the insightful students who can see right through their pathetic teachers  pomp  the pettiness of the whole situation  all remind me of the schools i knew and their students . when i saw the episode in which a student repeatedly tried to burn down the school  i immediately recalled . . . . . . . . . at . . . . . . . . . . high . a classic line inspector i  m here to sack one of your teachers . student welcome to bromwell high . i expect that many adults of my age think that bromwell high is far fetched . what a pity that it isn  t   \n",
      "positive\n"
     ]
    }
   ],
   "source": [
    "reviews,labels=helper.load_data()\n",
    "print(reviews[0])\n",
    "print(labels[0])"
   ]
  },
  {
   "cell_type": "markdown",
   "source": [
    "# understand dataset\n",
    "- in this part i will try to find what is the reason for a review to be positive and what is the words that appear in positive or negative review\n",
    "- we want to know which words appear in negative and positive\n",
    "- positive words and negative_words are counter objects will have count of each word exist either in negative reviews or positive reviews"
   ],
   "metadata": {
    "collapsed": false
   }
  },
  {
   "cell_type": "code",
   "execution_count": 9,
   "outputs": [],
   "source": [
    "positive_words_cnt=Counter()\n",
    "negative_words_cnt=Counter()\n",
    "all_words_cnt=Counter()"
   ],
   "metadata": {
    "collapsed": false,
    "pycharm": {
     "name": "#%%\n"
    }
   }
  },
  {
   "cell_type": "code",
   "execution_count": 10,
   "outputs": [],
   "source": [
    "for i in range(len(reviews)):\n",
    "    words=reviews[i].split(\" \")\n",
    "    for word in words:\n",
    "        if labels[i]=='positive':\n",
    "            positive_words_cnt[word]+=1\n",
    "        else:\n",
    "            negative_words_cnt[word]+=1\n",
    "        all_words_cnt[word]+=1"
   ],
   "metadata": {
    "collapsed": false,
    "pycharm": {
     "name": "#%%\n"
    }
   }
  },
  {
   "cell_type": "markdown",
   "source": [
    "## showing the most common words appear in positive and also in negative"
   ],
   "metadata": {
    "collapsed": false
   }
  },
  {
   "cell_type": "code",
   "execution_count": 15,
   "outputs": [
    {
     "data": {
      "text/plain": "[('', 550468),\n ('the', 173324),\n ('.', 159654),\n ('and', 89722),\n ('a', 83688),\n ('of', 76855),\n ('to', 66746),\n ('is', 57245),\n ('in', 50215),\n ('br', 49235),\n ('it', 48025),\n ('i', 40743),\n ('that', 35630),\n ('this', 35080),\n ('s', 33815),\n ('as', 26308),\n ('with', 23247),\n ('for', 22416),\n ('was', 21917),\n ('film', 20937),\n ('but', 20822),\n ('movie', 19074),\n ('his', 17227),\n ('on', 17008),\n ('you', 16681),\n ('he', 16282),\n ('are', 14807),\n ('not', 14272),\n ('t', 13720),\n ('one', 13655),\n ('have', 12587),\n ('be', 12416),\n ('by', 11997),\n ('all', 11942),\n ('who', 11464),\n ('an', 11294),\n ('at', 11234),\n ('from', 10767),\n ('her', 10474),\n ('they', 9895),\n ('has', 9186),\n ('so', 9154),\n ('like', 9038),\n ('about', 8313),\n ('very', 8305),\n ('out', 8134),\n ('there', 8057),\n ('she', 7779),\n ('what', 7737),\n ('or', 7732),\n ('good', 7720),\n ('more', 7521),\n ('when', 7456),\n ('some', 7441),\n ('if', 7285),\n ('just', 7152),\n ('can', 7001),\n ('story', 6780),\n ('time', 6515),\n ('my', 6488),\n ('great', 6419),\n ('well', 6405),\n ('up', 6321),\n ('which', 6267),\n ('their', 6107),\n ('see', 6026),\n ('also', 5550),\n ('we', 5531),\n ('really', 5476),\n ('would', 5400),\n ('will', 5218),\n ('me', 5167),\n ('had', 5148),\n ('only', 5137),\n ('him', 5018),\n ('even', 4964),\n ('most', 4864),\n ('other', 4858),\n ('were', 4782),\n ('first', 4755),\n ('than', 4736),\n ('much', 4685),\n ('its', 4622),\n ('no', 4574),\n ('into', 4544),\n ('people', 4479),\n ('best', 4319),\n ('love', 4301),\n ('get', 4272),\n ('how', 4213),\n ('life', 4199),\n ('been', 4189),\n ('because', 4079),\n ('way', 4036),\n ('do', 3941),\n ('made', 3823),\n ('films', 3813),\n ('them', 3805),\n ('after', 3800),\n ('many', 3766),\n ('two', 3733),\n ('too', 3659),\n ('think', 3655),\n ('movies', 3586),\n ('characters', 3560),\n ('character', 3514),\n ('don', 3468),\n ('man', 3460),\n ('show', 3432),\n ('watch', 3424),\n ('seen', 3414),\n ('then', 3358),\n ('little', 3341),\n ('still', 3340),\n ('make', 3303),\n ('could', 3237),\n ('never', 3226),\n ('being', 3217),\n ('where', 3173),\n ('does', 3069),\n ('over', 3017),\n ('any', 3002),\n ('while', 2899),\n ('know', 2833),\n ('did', 2790),\n ('years', 2758),\n ('here', 2740),\n ('ever', 2734),\n ('end', 2696),\n ('these', 2694),\n ('such', 2590),\n ('real', 2568),\n ('scene', 2567),\n ('back', 2547),\n ('those', 2485),\n ('though', 2475),\n ('off', 2463),\n ('new', 2458),\n ('your', 2453),\n ('go', 2440),\n ('acting', 2437),\n ('plot', 2432),\n ('world', 2429),\n ('scenes', 2427),\n ('say', 2414),\n ('through', 2409),\n ('makes', 2390),\n ('better', 2381),\n ('now', 2368),\n ('work', 2346),\n ('young', 2343),\n ('old', 2311),\n ('ve', 2307),\n ('find', 2272),\n ('both', 2248),\n ('before', 2177),\n ('us', 2162),\n ('again', 2158),\n ('series', 2153),\n ('quite', 2143),\n ('something', 2135),\n ('cast', 2133),\n ('should', 2121),\n ('part', 2098),\n ('always', 2088),\n ('lot', 2087),\n ('another', 2075),\n ('actors', 2047),\n ('director', 2040),\n ('family', 2032),\n ('between', 2016),\n ('own', 2016),\n ('m', 1998),\n ('may', 1997),\n ('same', 1972),\n ('role', 1967),\n ('watching', 1966),\n ('every', 1954),\n ('funny', 1953),\n ('doesn', 1935),\n ('performance', 1928),\n ('few', 1918),\n ('bad', 1907),\n ('look', 1900),\n ('re', 1884),\n ('why', 1855),\n ('things', 1849),\n ('times', 1832),\n ('big', 1815),\n ('however', 1795),\n ('actually', 1790),\n ('action', 1789),\n ('going', 1783),\n ('bit', 1757),\n ('comedy', 1742),\n ('down', 1740),\n ('music', 1738),\n ('must', 1728),\n ('take', 1709),\n ('saw', 1692),\n ('long', 1690),\n ('right', 1688),\n ('fun', 1686),\n ('fact', 1684),\n ('excellent', 1683),\n ('around', 1674),\n ('didn', 1672),\n ('without', 1671),\n ('thing', 1662),\n ('thought', 1639),\n ('got', 1635),\n ('each', 1630),\n ('day', 1614),\n ('feel', 1597),\n ('seems', 1596),\n ('come', 1594),\n ('done', 1586),\n ('beautiful', 1580),\n ('especially', 1572),\n ('played', 1571),\n ('almost', 1566),\n ('want', 1562),\n ('yet', 1556),\n ('give', 1553),\n ('pretty', 1549),\n ('last', 1543),\n ('since', 1519),\n ('different', 1504),\n ('although', 1501),\n ('gets', 1490),\n ('true', 1487),\n ('interesting', 1481),\n ('job', 1470),\n ('enough', 1455),\n ('our', 1454),\n ('shows', 1447),\n ('horror', 1441),\n ('woman', 1439),\n ('tv', 1400),\n ('probably', 1398),\n ('father', 1395),\n ('original', 1393),\n ('girl', 1390),\n ('point', 1379),\n ('plays', 1378),\n ('wonderful', 1372),\n ('far', 1358),\n ('course', 1358),\n ('john', 1350),\n ('rather', 1340),\n ('isn', 1328),\n ('ll', 1326),\n ('later', 1324),\n ('dvd', 1324),\n ('whole', 1310),\n ('war', 1310),\n ('d', 1307),\n ('found', 1306),\n ('away', 1306),\n ('screen', 1305),\n ('nothing', 1300),\n ('year', 1297),\n ('once', 1296),\n ('hard', 1294),\n ('together', 1280),\n ('set', 1277),\n ('am', 1277),\n ('having', 1266),\n ('making', 1265),\n ('place', 1263),\n ('might', 1260),\n ('comes', 1260),\n ('sure', 1253),\n ('american', 1248),\n ('play', 1245),\n ('kind', 1244),\n ('perfect', 1242),\n ('takes', 1242),\n ('performances', 1237),\n ('himself', 1230),\n ('worth', 1221),\n ('everyone', 1221),\n ('anyone', 1214),\n ('actor', 1203),\n ('three', 1201),\n ('wife', 1196),\n ('classic', 1192),\n ('goes', 1186),\n ('ending', 1178),\n ('version', 1168),\n ('star', 1149),\n ('enjoy', 1146),\n ('book', 1142),\n ('nice', 1132),\n ('everything', 1128),\n ('during', 1124),\n ('put', 1118),\n ('seeing', 1111),\n ('least', 1102),\n ('house', 1100),\n ('high', 1095),\n ('watched', 1094),\n ('loved', 1087),\n ('men', 1087),\n ('night', 1082),\n ('anything', 1075),\n ('believe', 1071),\n ('guy', 1071),\n ('top', 1063),\n ('amazing', 1058),\n ('hollywood', 1056),\n ('looking', 1053),\n ('main', 1044),\n ('definitely', 1043),\n ('gives', 1031),\n ('home', 1029),\n ('seem', 1028),\n ('episode', 1023),\n ('audience', 1020),\n ('sense', 1020),\n ('truly', 1017),\n ('special', 1011),\n ('second', 1009),\n ('short', 1009),\n ('fan', 1009),\n ('mind', 1005),\n ('human', 1001),\n ('recommend', 999),\n ('full', 996),\n ('black', 995),\n ('help', 991),\n ('along', 989),\n ('trying', 987),\n ('small', 986),\n ('death', 985),\n ('friends', 981),\n ('remember', 974),\n ('often', 970),\n ('said', 966),\n ('favorite', 962),\n ('heart', 959),\n ('early', 957),\n ('left', 956),\n ('until', 955),\n ('script', 954),\n ('let', 954),\n ('maybe', 937),\n ('today', 936),\n ('live', 934),\n ('less', 934),\n ('moments', 933),\n ('others', 929),\n ('brilliant', 926),\n ('shot', 925),\n ('liked', 923),\n ('become', 916),\n ('won', 915),\n ('used', 910),\n ('style', 907),\n ('mother', 895),\n ('lives', 894),\n ('came', 893),\n ('stars', 890),\n ('cinema', 889),\n ('looks', 885),\n ('perhaps', 884),\n ('read', 882),\n ('enjoyed', 879),\n ('boy', 875),\n ('drama', 873),\n ('highly', 871),\n ('given', 870),\n ('playing', 867),\n ('use', 864),\n ('next', 859),\n ('women', 858),\n ('fine', 857),\n ('effects', 856),\n ('kids', 854),\n ('entertaining', 853),\n ('need', 852),\n ('line', 850),\n ('works', 848),\n ('someone', 847),\n ('mr', 836),\n ('simply', 835),\n ('picture', 833),\n ('children', 833),\n ('face', 831),\n ('keep', 831),\n ('friend', 831),\n ('dark', 830),\n ('overall', 828),\n ('certainly', 828),\n ('minutes', 827),\n ('wasn', 824),\n ('history', 822),\n ('finally', 820),\n ('couple', 816),\n ('against', 815),\n ('son', 809),\n ('understand', 808),\n ('lost', 807),\n ('michael', 805),\n ('else', 801),\n ('throughout', 798),\n ('fans', 797),\n ('city', 792),\n ('reason', 789),\n ('written', 787),\n ('production', 787),\n ('several', 784),\n ('school', 783),\n ('based', 781),\n ('rest', 781),\n ('try', 780),\n ('dead', 776),\n ('hope', 775),\n ('strong', 768),\n ('white', 765),\n ('tell', 759),\n ('itself', 758),\n ('half', 753),\n ('person', 749),\n ('sometimes', 746),\n ('past', 744),\n ('start', 744),\n ('genre', 743),\n ('beginning', 739),\n ('final', 739),\n ('town', 738),\n ('art', 734),\n ('humor', 732),\n ('game', 732),\n ('yes', 731),\n ('idea', 731),\n ('late', 730),\n ('becomes', 729),\n ('despite', 729),\n ('able', 726),\n ('case', 726),\n ('money', 723),\n ('child', 721),\n ('completely', 721),\n ('side', 719),\n ('camera', 716),\n ('getting', 714),\n ('instead', 712),\n ('soon', 702),\n ('under', 700),\n ('viewer', 699),\n ('age', 697),\n ('days', 696),\n ('stories', 696),\n ('felt', 694),\n ('simple', 694),\n ('roles', 693),\n ('video', 688),\n ('name', 683),\n ('either', 683),\n ('doing', 677),\n ('turns', 674),\n ('wants', 671),\n ('close', 671),\n ('title', 669),\n ('wrong', 668),\n ('went', 666),\n ('james', 665),\n ('evil', 659),\n ('budget', 657),\n ('episodes', 657),\n ('relationship', 655),\n ('fantastic', 653),\n ('piece', 653),\n ('david', 651),\n ('turn', 648),\n ('murder', 646),\n ('parts', 645),\n ('brother', 644),\n ('absolutely', 643),\n ('head', 643),\n ('experience', 642),\n ('eyes', 641),\n ('sex', 638),\n ('direction', 637),\n ('called', 637),\n ('directed', 636),\n ('lines', 634),\n ('behind', 633),\n ('sort', 632),\n ('actress', 631),\n ('lead', 630),\n ('oscar', 628),\n ('including', 627),\n ('example', 627),\n ('known', 625),\n ('musical', 625),\n ('chance', 621),\n ('score', 620),\n ('already', 619),\n ('feeling', 619),\n ('hit', 619),\n ('voice', 615),\n ('moment', 612),\n ('living', 612),\n ('low', 610),\n ('supporting', 610),\n ('ago', 609),\n ('themselves', 608),\n ('reality', 605),\n ('hilarious', 605),\n ('jack', 604),\n ('told', 603),\n ('hand', 601),\n ('quality', 600),\n ('moving', 600),\n ('dialogue', 600),\n ('song', 599),\n ('happy', 599),\n ('matter', 598),\n ('paul', 598),\n ('light', 594),\n ('future', 593),\n ('entire', 592),\n ('finds', 591),\n ('gave', 589),\n ('laugh', 587),\n ('released', 586),\n ('expect', 584),\n ('fight', 581),\n ('particularly', 580),\n ('cinematography', 579),\n ('police', 579),\n ('whose', 578),\n ('type', 578),\n ('sound', 578),\n ('view', 573),\n ('enjoyable', 573),\n ('number', 572),\n ('romantic', 572),\n ('husband', 572),\n ('daughter', 572),\n ('documentary', 571),\n ('self', 570),\n ('superb', 569),\n ('modern', 569),\n ('took', 569),\n ('robert', 569),\n ('mean', 566),\n ('shown', 563),\n ('coming', 561),\n ('important', 560),\n ('king', 559),\n ('leave', 559),\n ('change', 558),\n ('somewhat', 555),\n ('wanted', 555),\n ('tells', 554),\n ('events', 552),\n ('run', 552),\n ('career', 552),\n ('country', 552),\n ('heard', 550),\n ('season', 550),\n ('greatest', 549),\n ('girls', 549),\n ('etc', 547),\n ('care', 546),\n ('starts', 545),\n ('english', 542),\n ('killer', 541),\n ('tale', 540),\n ('guys', 540),\n ('totally', 540),\n ('animation', 540),\n ('usual', 539),\n ('miss', 535),\n ('opinion', 535),\n ('easy', 531),\n ('violence', 531),\n ('songs', 530),\n ('british', 528),\n ('says', 526),\n ('realistic', 525),\n ('writing', 524),\n ('writer', 522),\n ('act', 522),\n ('comic', 521),\n ('thriller', 519),\n ('television', 517),\n ('power', 516),\n ('ones', 515),\n ('kid', 514),\n ('york', 513),\n ('novel', 513),\n ('alone', 512),\n ('problem', 512),\n ('attention', 509),\n ('involved', 508),\n ('kill', 507),\n ('extremely', 507),\n ('seemed', 506),\n ('hero', 505),\n ('french', 505),\n ('rock', 504),\n ('stuff', 501),\n ('wish', 499),\n ('begins', 498),\n ('taken', 497),\n ('sad', 497),\n ('ways', 496),\n ('richard', 495),\n ('knows', 494),\n ('atmosphere', 493),\n ('similar', 491),\n ('surprised', 491),\n ('taking', 491),\n ('car', 491),\n ('george', 490),\n ('perfectly', 490),\n ('across', 489),\n ('team', 489),\n ('eye', 489),\n ('sequence', 489),\n ('room', 488),\n ('due', 488),\n ('among', 488),\n ('serious', 488),\n ('powerful', 488),\n ('strange', 487),\n ('order', 487),\n ('cannot', 487),\n ('b', 487),\n ('beauty', 486),\n ('famous', 485),\n ('happened', 484),\n ('tries', 484),\n ('herself', 484),\n ('myself', 484),\n ('class', 483),\n ('four', 482),\n ('cool', 481),\n ('release', 479),\n ('anyway', 479),\n ('theme', 479),\n ('opening', 478),\n ('entertainment', 477),\n ('slow', 475),\n ('ends', 475),\n ('unique', 475),\n ('exactly', 475),\n ('easily', 474),\n ('level', 474),\n ('o', 474),\n ('red', 474),\n ('interest', 472),\n ('happen', 471),\n ('crime', 470),\n ('viewing', 468),\n ('sets', 467),\n ('memorable', 467),\n ('stop', 466),\n ('group', 466),\n ('problems', 463),\n ('dance', 463),\n ('working', 463),\n ('sister', 463),\n ('message', 463),\n ('knew', 462),\n ('mystery', 461),\n ('nature', 461),\n ('bring', 460),\n ('believable', 459),\n ('thinking', 459),\n ('brought', 459),\n ('mostly', 458),\n ('disney', 457),\n ('couldn', 457),\n ('society', 456),\n ('lady', 455),\n ('within', 455),\n ('blood', 454),\n ('parents', 453),\n ('upon', 453),\n ('viewers', 453),\n ('meets', 452),\n ('form', 452),\n ('peter', 452),\n ('tom', 452),\n ('usually', 452),\n ('soundtrack', 452),\n ('local', 450),\n ('certain', 448),\n ('follow', 448),\n ('whether', 447),\n ('possible', 446),\n ('emotional', 445),\n ('killed', 444),\n ('above', 444),\n ('de', 444),\n ('god', 443),\n ('middle', 443),\n ('needs', 442),\n ('happens', 442),\n ('flick', 442),\n ('masterpiece', 441),\n ('period', 440),\n ('major', 440),\n ('named', 439),\n ('haven', 439),\n ('particular', 438),\n ('th', 438),\n ('earth', 437),\n ('feature', 437),\n ('stand', 436),\n ('words', 435),\n ('typical', 435),\n ('elements', 433),\n ('obviously', 433),\n ('romance', 431),\n ('jane', 430),\n ('yourself', 427),\n ('showing', 427),\n ('brings', 426),\n ('fantasy', 426),\n ('guess', 423),\n ('america', 423),\n ('unfortunately', 422),\n ('huge', 422),\n ('indeed', 421),\n ('running', 421),\n ('talent', 420),\n ('stage', 419),\n ('started', 418),\n ('leads', 417),\n ('sweet', 417),\n ('japanese', 417),\n ('poor', 416),\n ('deal', 416),\n ('incredible', 413),\n ('personal', 413),\n ('fast', 412),\n ('became', 410),\n ('deep', 410),\n ('hours', 409),\n ('giving', 408),\n ('nearly', 408),\n ('dream', 408),\n ('clearly', 407),\n ('turned', 407),\n ('obvious', 406),\n ('near', 406),\n ('cut', 405),\n ('surprise', 405),\n ('era', 404),\n ('body', 404),\n ('hour', 403),\n ('female', 403),\n ('five', 403),\n ('note', 399),\n ('learn', 398),\n ('truth', 398),\n ('except', 397),\n ('feels', 397),\n ('match', 397),\n ('tony', 397),\n ('filmed', 394),\n ('clear', 394),\n ('complete', 394),\n ('street', 393),\n ('eventually', 393),\n ('keeps', 393),\n ('older', 393),\n ('lots', 393),\n ('buy', 392),\n ('william', 391),\n ('stewart', 391),\n ('fall', 390),\n ('joe', 390),\n ('meet', 390),\n ('unlike', 389),\n ('talking', 389),\n ('shots', 389),\n ('rating', 389),\n ('difficult', 389),\n ('dramatic', 388),\n ('means', 388),\n ('situation', 386),\n ('wonder', 386),\n ('present', 386),\n ('appears', 386),\n ('subject', 386),\n ('comments', 385),\n ('general', 383),\n ('sequences', 383),\n ('lee', 383),\n ('points', 382),\n ('earlier', 382),\n ('gone', 379),\n ('check', 379),\n ('suspense', 378),\n ('recommended', 378),\n ('ten', 378),\n ('third', 377),\n ('business', 377),\n ('talk', 375),\n ('leaves', 375),\n ('beyond', 375),\n ('portrayal', 374),\n ('beautifully', 373),\n ('single', 372),\n ('bill', 372),\n ('plenty', 371),\n ('word', 371),\n ('whom', 370),\n ('falls', 370),\n ('scary', 369),\n ('non', 369),\n ('figure', 369),\n ('battle', 369),\n ('using', 368),\n ('return', 368),\n ('doubt', 367),\n ('add', 367),\n ('hear', 366),\n ('solid', 366),\n ('success', 366),\n ('jokes', 365),\n ('oh', 365),\n ('touching', 365),\n ('political', 365),\n ('hell', 364),\n ('awesome', 364),\n ('boys', 364),\n ('sexual', 362),\n ('recently', 362),\n ('dog', 362),\n ('please', 361),\n ('wouldn', 361),\n ('straight', 361),\n ('features', 361),\n ('forget', 360),\n ('setting', 360),\n ('lack', 360),\n ('married', 359),\n ('mark', 359),\n ('social', 357),\n ('interested', 356),\n ('adventure', 356),\n ('actual', 355),\n ('terrific', 355),\n ('sees', 355),\n ('brothers', 355),\n ('move', 354),\n ('call', 354),\n ('various', 353),\n ('theater', 353),\n ('dr', 353),\n ('animated', 352),\n ('western', 351),\n ('baby', 350),\n ('space', 350),\n ('leading', 348),\n ('disappointed', 348),\n ('portrayed', 346),\n ('aren', 346),\n ('screenplay', 345),\n ('smith', 345),\n ('towards', 344),\n ('hate', 344),\n ('noir', 343),\n ('outstanding', 342),\n ('decent', 342),\n ('kelly', 342),\n ('directors', 341),\n ('journey', 341),\n ('none', 340),\n ('looked', 340),\n ('effective', 340),\n ('storyline', 339),\n ('caught', 339),\n ('sci', 339),\n ('fi', 339),\n ('cold', 339),\n ('mary', 339),\n ('rich', 338),\n ('charming', 338),\n ('popular', 337),\n ('rare', 337),\n ('manages', 337),\n ('harry', 337),\n ('spirit', 336),\n ('appreciate', 335),\n ('open', 335),\n ('moves', 334),\n ('basically', 334),\n ('acted', 334),\n ('inside', 333),\n ('boring', 333),\n ('century', 333),\n ('mention', 333),\n ('deserves', 333),\n ('subtle', 333),\n ('pace', 333),\n ('familiar', 332),\n ('background', 332),\n ('ben', 331),\n ('creepy', 330),\n ('supposed', 330),\n ('secret', 329),\n ('die', 328),\n ('jim', 328),\n ('question', 327),\n ('effect', 327),\n ('natural', 327),\n ('impressive', 326),\n ('rate', 326),\n ('language', 326),\n ('saying', 325),\n ('intelligent', 325),\n ('telling', 324),\n ('realize', 324),\n ('material', 324),\n ('scott', 324),\n ('singing', 323),\n ('dancing', 322),\n ('visual', 321),\n ('adult', 321),\n ('imagine', 321),\n ('kept', 320),\n ('office', 320),\n ('uses', 319),\n ('pure', 318),\n ('wait', 318),\n ('stunning', 318),\n ('review', 317),\n ('previous', 317),\n ('copy', 317),\n ('seriously', 317),\n ('reading', 316),\n ('create', 316),\n ('hot', 316),\n ('created', 316),\n ('magic', 316),\n ('somehow', 316),\n ('stay', 315),\n ('attempt', 315),\n ('escape', 315),\n ('crazy', 315),\n ('air', 315),\n ('frank', 315),\n ('hands', 314),\n ('filled', 313),\n ('expected', 312),\n ('average', 312),\n ('surprisingly', 312),\n ('complex', 311),\n ('quickly', 310),\n ('successful', 310),\n ('studio', 310),\n ('plus', 309),\n ('male', 309),\n ('co', 307),\n ('images', 306),\n ('casting', 306),\n ('following', 306),\n ('minute', 306),\n ('exciting', 306),\n ('members', 305),\n ('follows', 305),\n ('themes', 305),\n ('german', 305),\n ('reasons', 305),\n ('e', 305),\n ('touch', 304),\n ('edge', 304),\n ('free', 304),\n ('cute', 304),\n ('genius', 304),\n ('outside', 303),\n ('reviews', 302),\n ('admit', 302),\n ('ok', 302),\n ('younger', 302),\n ('fighting', 301),\n ('odd', 301),\n ('master', 301),\n ('recent', 300),\n ('thanks', 300),\n ('break', 300),\n ('comment', 300),\n ('apart', 299),\n ('emotions', 298),\n ('lovely', 298),\n ('begin', 298),\n ('doctor', 297),\n ('party', 297),\n ('italian', 297),\n ('la', 296),\n ('missed', 296),\n ...]"
     },
     "metadata": {},
     "output_type": "display_data"
    },
    {
     "data": {
      "text/plain": "[('', 561462),\n ('.', 167538),\n ('the', 163389),\n ('a', 79321),\n ('and', 74385),\n ('of', 69009),\n ('to', 68974),\n ('br', 52637),\n ('is', 50083),\n ('it', 48327),\n ('i', 46880),\n ('in', 43753),\n ('this', 40920),\n ('that', 37615),\n ('s', 31546),\n ('was', 26291),\n ('movie', 24965),\n ('for', 21927),\n ('but', 21781),\n ('with', 20878),\n ('as', 20625),\n ('t', 20361),\n ('film', 19218),\n ('you', 17549),\n ('on', 17192),\n ('not', 16354),\n ('have', 15144),\n ('are', 14623),\n ('be', 14541),\n ('he', 13856),\n ('one', 13134),\n ('they', 13011),\n ('at', 12279),\n ('his', 12147),\n ('all', 12036),\n ('so', 11463),\n ('like', 11238),\n ('there', 10775),\n ('just', 10619),\n ('by', 10549),\n ('or', 10272),\n ('an', 10266),\n ('who', 9969),\n ('from', 9731),\n ('if', 9518),\n ('about', 9061),\n ('out', 8979),\n ('what', 8422),\n ('some', 8306),\n ('no', 8143),\n ('her', 7947),\n ('even', 7687),\n ('can', 7653),\n ('has', 7604),\n ('good', 7423),\n ('bad', 7401),\n ('would', 7036),\n ('up', 6970),\n ('only', 6781),\n ('more', 6730),\n ('when', 6726),\n ('she', 6444),\n ('really', 6262),\n ('time', 6209),\n ('had', 6142),\n ('my', 6015),\n ('were', 6001),\n ('which', 5780),\n ('very', 5764),\n ('me', 5606),\n ('see', 5452),\n ('don', 5336),\n ('we', 5328),\n ('their', 5278),\n ('do', 5236),\n ('story', 5208),\n ('than', 5183),\n ('been', 5100),\n ('much', 5078),\n ('get', 5037),\n ('because', 4966),\n ('people', 4806),\n ('then', 4761),\n ('make', 4722),\n ('how', 4688),\n ('could', 4686),\n ('any', 4658),\n ('into', 4567),\n ('made', 4541),\n ('first', 4306),\n ('other', 4305),\n ('well', 4254),\n ('too', 4174),\n ('them', 4165),\n ('plot', 4154),\n ('movies', 4080),\n ('acting', 4056),\n ('will', 3993),\n ('way', 3989),\n ('most', 3919),\n ('him', 3858),\n ('after', 3838),\n ('its', 3655),\n ('think', 3643),\n ('also', 3608),\n ('characters', 3600),\n ('off', 3567),\n ('watch', 3550),\n ('character', 3506),\n ('did', 3506),\n ('why', 3463),\n ('being', 3393),\n ('better', 3358),\n ('know', 3334),\n ('over', 3316),\n ('seen', 3265),\n ('ever', 3263),\n ('never', 3259),\n ('your', 3233),\n ('where', 3219),\n ('two', 3173),\n ('little', 3096),\n ('films', 3077),\n ('here', 3027),\n ('m', 3000),\n ('nothing', 2990),\n ('say', 2982),\n ('end', 2954),\n ('something', 2942),\n ('should', 2920),\n ('many', 2909),\n ('does', 2871),\n ('thing', 2866),\n ('show', 2862),\n ('ve', 2829),\n ('scene', 2816),\n ('scenes', 2785),\n ('these', 2724),\n ('go', 2717),\n ('didn', 2646),\n ('great', 2640),\n ('watching', 2640),\n ('re', 2620),\n ('doesn', 2601),\n ('through', 2560),\n ('such', 2544),\n ('man', 2516),\n ('worst', 2480),\n ('actually', 2449),\n ('actors', 2437),\n ('life', 2429),\n ('back', 2424),\n ('while', 2418),\n ('director', 2405),\n ('funny', 2336),\n ('going', 2319),\n ('still', 2283),\n ('another', 2254),\n ('look', 2247),\n ('now', 2237),\n ('old', 2215),\n ('those', 2212),\n ('real', 2170),\n ('few', 2158),\n ('love', 2152),\n ('horror', 2150),\n ('before', 2147),\n ('want', 2141),\n ('minutes', 2126),\n ('pretty', 2115),\n ('best', 2094),\n ('though', 2091),\n ('same', 2081),\n ('script', 2074),\n ('work', 2027),\n ('every', 2025),\n ('seems', 2023),\n ('least', 2011),\n ('enough', 1997),\n ('down', 1988),\n ('original', 1983),\n ('guy', 1964),\n ('got', 1952),\n ('around', 1943),\n ('part', 1942),\n ('lot', 1892),\n ('anything', 1874),\n ('find', 1860),\n ('new', 1854),\n ('again', 1849),\n ('isn', 1849),\n ('point', 1845),\n ('things', 1839),\n ('fact', 1839),\n ('give', 1823),\n ('makes', 1814),\n ('take', 1800),\n ('thought', 1798),\n ('d', 1770),\n ('whole', 1768),\n ('long', 1761),\n ('years', 1759),\n ('however', 1740),\n ('gets', 1714),\n ('making', 1695),\n ('cast', 1694),\n ('big', 1662),\n ('might', 1658),\n ('interesting', 1648),\n ('money', 1638),\n ('us', 1628),\n ('right', 1625),\n ('far', 1619),\n ('quite', 1596),\n ('without', 1595),\n ('come', 1595),\n ('almost', 1574),\n ('ll', 1567),\n ('action', 1566),\n ('awful', 1557),\n ('kind', 1539),\n ('reason', 1534),\n ('am', 1530),\n ('looks', 1528),\n ('must', 1522),\n ('done', 1510),\n ('comedy', 1504),\n ('someone', 1490),\n ('trying', 1486),\n ('wasn', 1484),\n ('poor', 1481),\n ('boring', 1478),\n ('instead', 1478),\n ('saw', 1475),\n ('away', 1469),\n ('girl', 1463),\n ('probably', 1444),\n ('believe', 1434),\n ('sure', 1433),\n ('looking', 1430),\n ('stupid', 1428),\n ('anyone', 1418),\n ('times', 1406),\n ('maybe', 1404),\n ('world', 1404),\n ('rather', 1394),\n ('terrible', 1391),\n ('may', 1390),\n ('last', 1390),\n ('since', 1388),\n ('let', 1385),\n ('tv', 1382),\n ('hard', 1374),\n ('between', 1374),\n ('waste', 1358),\n ('woman', 1356),\n ('feel', 1354),\n ('effects', 1348),\n ('half', 1341),\n ('own', 1333),\n ('young', 1317),\n ('music', 1316),\n ('idea', 1312),\n ('sense', 1306),\n ('bit', 1298),\n ('having', 1280),\n ('book', 1278),\n ('found', 1267),\n ('put', 1263),\n ('series', 1263),\n ('goes', 1256),\n ('worse', 1249),\n ('said', 1230),\n ('comes', 1224),\n ('role', 1222),\n ('main', 1220),\n ('else', 1199),\n ('everything', 1197),\n ('yet', 1196),\n ('low', 1189),\n ('screen', 1188),\n ('supposed', 1186),\n ('actor', 1185),\n ('either', 1183),\n ('budget', 1179),\n ('ending', 1179),\n ('audience', 1178),\n ('set', 1177),\n ('family', 1170),\n ('left', 1169),\n ('completely', 1168),\n ('both', 1158),\n ('wrong', 1155),\n ('always', 1151),\n ('course', 1148),\n ('place', 1148),\n ('seem', 1147),\n ('watched', 1142),\n ('day', 1132),\n ('simply', 1130),\n ('shot', 1126),\n ('mean', 1117),\n ('special', 1102),\n ('dead', 1101),\n ('three', 1094),\n ('house', 1085),\n ('oh', 1084),\n ('night', 1083),\n ('read', 1082),\n ('less', 1067),\n ('high', 1066),\n ('year', 1064),\n ('camera', 1061),\n ('worth', 1057),\n ('our', 1056),\n ('try', 1051),\n ('horrible', 1046),\n ('sex', 1046),\n ('video', 1043),\n ('black', 1039),\n ('although', 1036),\n ('couldn', 1036),\n ('once', 1033),\n ('rest', 1022),\n ('dvd', 1021),\n ('line', 1018),\n ('played', 1017),\n ('fun', 1007),\n ('during', 1006),\n ('production', 1003),\n ('everyone', 1002),\n ('play', 993),\n ('mind', 990),\n ('version', 989),\n ('kids', 989),\n ('seeing', 988),\n ('american', 980),\n ('given', 978),\n ('used', 969),\n ('performance', 968),\n ('especially', 963),\n ('together', 963),\n ('tell', 959),\n ('women', 958),\n ('start', 956),\n ('need', 955),\n ('second', 953),\n ('takes', 950),\n ('each', 950),\n ('wife', 944),\n ('dialogue', 942),\n ('use', 940),\n ('problem', 938),\n ('star', 934),\n ('unfortunately', 931),\n ('himself', 929),\n ('doing', 926),\n ('death', 922),\n ('name', 921),\n ('lines', 919),\n ('killer', 914),\n ('getting', 913),\n ('help', 905),\n ('couple', 902),\n ('fan', 902),\n ('head', 898),\n ('crap', 895),\n ('guess', 888),\n ('piece', 884),\n ('nice', 880),\n ('different', 878),\n ('school', 876),\n ('later', 875),\n ('entire', 869),\n ('shows', 860),\n ('next', 858),\n ('john', 858),\n ('short', 857),\n ('seemed', 857),\n ('hollywood', 850),\n ('home', 848),\n ('true', 846),\n ('person', 846),\n ('absolutely', 842),\n ('sort', 840),\n ('care', 839),\n ('understand', 836),\n ('plays', 835),\n ('felt', 834),\n ('written', 829),\n ('title', 828),\n ('men', 822),\n ('until', 821),\n ('flick', 816),\n ('decent', 815),\n ('face', 814),\n ('friends', 810),\n ('stars', 807),\n ('job', 807),\n ('case', 807),\n ('itself', 804),\n ('yes', 801),\n ('perhaps', 800),\n ('went', 797),\n ('wanted', 797),\n ('called', 796),\n ('annoying', 795),\n ('ridiculous', 790),\n ('tries', 790),\n ('laugh', 788),\n ('evil', 787),\n ('along', 786),\n ('top', 785),\n ('hour', 784),\n ('full', 783),\n ('came', 780),\n ('writing', 780),\n ('keep', 770),\n ('totally', 767),\n ('playing', 766),\n ('god', 765),\n ('won', 764),\n ('guys', 763),\n ('already', 762),\n ('gore', 757),\n ('direction', 748),\n ('save', 746),\n ('lost', 745),\n ('example', 744),\n ('sound', 742),\n ('war', 741),\n ('attempt', 735),\n ('car', 733),\n ('except', 733),\n ('moments', 732),\n ('blood', 732),\n ('obviously', 730),\n ('act', 729),\n ('remember', 728),\n ('kill', 727),\n ('truly', 726),\n ('white', 726),\n ('father', 726),\n ('b', 725),\n ('thinking', 720),\n ('ok', 716),\n ('finally', 716),\n ('turn', 711),\n ('quality', 701),\n ('lack', 698),\n ('style', 694),\n ('wouldn', 693),\n ('cheap', 691),\n ('none', 690),\n ('kid', 686),\n ('please', 686),\n ('boy', 685),\n ('seriously', 684),\n ('lead', 680),\n ('dull', 677),\n ('children', 676),\n ('starts', 675),\n ('stuff', 673),\n ('hope', 672),\n ('looked', 670),\n ('recommend', 669),\n ('under', 668),\n ('run', 667),\n ('killed', 667),\n ('enjoy', 666),\n ('others', 666),\n ('etc', 663),\n ('myself', 663),\n ('beginning', 662),\n ('girls', 662),\n ('against', 662),\n ('obvious', 660),\n ('small', 660),\n ('hell', 659),\n ('slow', 657),\n ('hand', 656),\n ('wonder', 652),\n ('lame', 652),\n ('becomes', 651),\n ('picture', 651),\n ('based', 650),\n ('early', 648),\n ('behind', 646),\n ('poorly', 644),\n ('avoid', 642),\n ('apparently', 640),\n ('complete', 640),\n ('happens', 639),\n ('anyway', 638),\n ('classic', 637),\n ('several', 636),\n ('despite', 635),\n ('certainly', 635),\n ('episode', 635),\n ('often', 631),\n ('cut', 630),\n ('writer', 630),\n ('mother', 628),\n ('predictable', 628),\n ('gave', 628),\n ('become', 627),\n ('close', 625),\n ('fans', 624),\n ('saying', 621),\n ('scary', 619),\n ('stop', 618),\n ('live', 618),\n ('wants', 617),\n ('self', 615),\n ('mr', 612),\n ('jokes', 611),\n ('friend', 611),\n ('cannot', 610),\n ('overall', 609),\n ('cinema', 604),\n ('child', 603),\n ('silly', 601),\n ('beautiful', 596),\n ('human', 595),\n ('expect', 594),\n ('liked', 593),\n ('happened', 592),\n ('bunch', 590),\n ('entertaining', 590),\n ('actress', 588),\n ('final', 588),\n ('says', 584),\n ('performances', 584),\n ('turns', 577),\n ('humor', 577),\n ('themselves', 576),\n ('eyes', 576),\n ('hours', 574),\n ('happen', 573),\n ('basically', 572),\n ('days', 572),\n ('running', 571),\n ('involved', 569),\n ('disappointed', 569),\n ('call', 569),\n ('directed', 568),\n ('group', 568),\n ('fight', 567),\n ('daughter', 566),\n ('talking', 566),\n ('body', 566),\n ('badly', 565),\n ('sorry', 565),\n ('throughout', 563),\n ('viewer', 563),\n ('yourself', 562),\n ('extremely', 562),\n ('interest', 561),\n ('heard', 561),\n ('violence', 561),\n ('shots', 559),\n ('side', 557),\n ('word', 556),\n ('art', 555),\n ('possible', 554),\n ('dark', 551),\n ('game', 551),\n ('hero', 550),\n ('alone', 549),\n ('son', 547),\n ('type', 547),\n ('leave', 547),\n ('gives', 546),\n ('parts', 546),\n ('single', 546),\n ('started', 545),\n ('female', 543),\n ('rating', 541),\n ('mess', 541),\n ('voice', 541),\n ('aren', 540),\n ('town', 540),\n ('drama', 538),\n ('definitely', 537),\n ('unless', 536),\n ('review', 534),\n ('effort', 533),\n ('weak', 533),\n ('able', 533),\n ('took', 531),\n ('non', 530),\n ('five', 530),\n ('matter', 529),\n ('usually', 529),\n ('michael', 528),\n ('feeling', 526),\n ('huge', 523),\n ('sequel', 522),\n ('soon', 521),\n ('exactly', 520),\n ('past', 519),\n ('turned', 518),\n ('police', 518),\n ('tried', 515),\n ('middle', 513),\n ('talent', 513),\n ('genre', 512),\n ('zombie', 510),\n ('ends', 509),\n ('history', 509),\n ('straight', 503),\n ('opening', 501),\n ('serious', 501),\n ('coming', 501),\n ('moment', 500),\n ('lives', 499),\n ('sad', 499),\n ('dialog', 498),\n ('particularly', 498),\n ('editing', 493),\n ('clearly', 492),\n ('beyond', 491),\n ('earth', 491),\n ('taken', 490),\n ('cool', 490),\n ('level', 489),\n ('dumb', 489),\n ('okay', 488),\n ('major', 487),\n ('fast', 485),\n ('premise', 485),\n ('joke', 484),\n ('stories', 484),\n ('wasted', 483),\n ('minute', 483),\n ('across', 482),\n ('mostly', 482),\n ('rent', 482),\n ('late', 481),\n ('falls', 481),\n ('fails', 481),\n ('mention', 478),\n ('theater', 475),\n ('stay', 472),\n ('sometimes', 472),\n ('hit', 468),\n ('talk', 467),\n ('fine', 467),\n ('die', 466),\n ('storyline', 465),\n ('pointless', 465),\n ('taking', 464),\n ('order', 462),\n ('brother', 461),\n ('whatever', 460),\n ('told', 460),\n ('wish', 458),\n ('room', 456),\n ('career', 455),\n ('appears', 455),\n ('write', 455),\n ('known', 454),\n ('husband', 454),\n ('living', 451),\n ('sit', 450),\n ('ten', 450),\n ('words', 449),\n ('monster', 448),\n ('chance', 448),\n ('hate', 444),\n ('novel', 444),\n ('add', 443),\n ('english', 443),\n ('somehow', 441),\n ('strange', 440),\n ('imdb', 438),\n ('actual', 438),\n ('total', 437),\n ('material', 437),\n ('killing', 437),\n ('ones', 437),\n ('knew', 436),\n ('king', 434),\n ('number', 434),\n ('using', 433),\n ('lee', 431),\n ('power', 431),\n ('shown', 431),\n ('works', 431),\n ('giving', 431),\n ('points', 430),\n ('possibly', 430),\n ('kept', 430),\n ('four', 429),\n ('local', 427),\n ('usual', 426),\n ('including', 425),\n ('problems', 424),\n ('ago', 424),\n ('opinion', 424),\n ('nudity', 423),\n ('age', 422),\n ('due', 421),\n ('roles', 420),\n ('writers', 419),\n ('decided', 419),\n ('near', 418),\n ('flat', 418),\n ('easily', 418),\n ('murder', 417),\n ('experience', 417),\n ('reviews', 416),\n ('imagine', 415),\n ('feels', 413),\n ('plain', 411),\n ('somewhat', 411),\n ('class', 410),\n ('score', 410),\n ('song', 409),\n ('bring', 409),\n ('whether', 409),\n ('otherwise', 408),\n ('whose', 408),\n ('average', 408),\n ('pathetic', 407),\n ('nearly', 407),\n ('knows', 407),\n ('zombies', 407),\n ('cinematography', 406),\n ('cheesy', 406),\n ('upon', 406),\n ('city', 405),\n ('space', 405),\n ('credits', 404),\n ('james', 403),\n ('lots', 403),\n ('change', 403),\n ('entertainment', 402),\n ('nor', 402),\n ('wait', 401),\n ('released', 400),\n ('needs', 399),\n ('shame', 398),\n ('attention', 396),\n ('comments', 394),\n ('bored', 393),\n ('free', 393),\n ('lady', 393),\n ('expected', 392),\n ('needed', 392),\n ('clear', 392),\n ('view', 391),\n ('development', 390),\n ('check', 390),\n ('doubt', 390),\n ('figure', 389),\n ('mystery', 389),\n ('excellent', 388),\n ('garbage', 388),\n ('sequence', 386),\n ('television', 386),\n ('o', 385),\n ('sets', 385),\n ('laughable', 384),\n ('potential', 384),\n ('robert', 382),\n ('light', 382),\n ('country', 382),\n ('documentary', 382),\n ('reality', 382),\n ('general', 381),\n ('ask', 381),\n ('comic', 380),\n ('fall', 380),\n ('begin', 380),\n ('footage', 379),\n ('stand', 379),\n ('forced', 379),\n ('trash', 379),\n ('remake', 379),\n ('thriller', 378),\n ('songs', 378),\n ('gay', 377),\n ('within', 377),\n ('hardly', 376),\n ('above', 375),\n ('gone', 375),\n ('george', 374),\n ('means', 373),\n ('sounds', 373),\n ('directing', 372),\n ('move', 372),\n ('david', 372),\n ('buy', 372),\n ('rock', 371),\n ('forward', 371),\n ('important', 371),\n ('hot', 370),\n ('haven', 370),\n ('filmed', 370),\n ('british', 370),\n ('heart', 369),\n ('reading', 369),\n ('fake', 369),\n ('incredibly', 368),\n ('weird', 368),\n ('hear', 368),\n ('enjoyed', 367),\n ('hilarious', 367),\n ('cop', 367),\n ('musical', 367),\n ('message', 366),\n ('happy', 366),\n ('pay', 366),\n ('laughs', 365),\n ('box', 365),\n ('suspense', 363),\n ('sadly', 363),\n ('eye', 362),\n ('third', 361),\n ('similar', 361),\n ('named', 361),\n ('modern', 360),\n ('failed', 359),\n ('events', 359),\n ('forget', 358),\n ('question', 358),\n ('male', 357),\n ('finds', 357),\n ('perfect', 356),\n ('spent', 355),\n ('sister', 355),\n ('feature', 354),\n ('result', 354),\n ('comment', 353),\n ('girlfriend', 353),\n ('sexual', 352),\n ('attempts', 351),\n ('neither', 351),\n ('richard', 351),\n ('screenplay', 350),\n ('elements', 350),\n ('spoilers', 349),\n ('brain', 348),\n ('filmmakers', 348),\n ('showing', 348),\n ('miss', 347),\n ('dr', 347),\n ('christmas', 347),\n ('cover', 345),\n ('red', 344),\n ('sequences', 344),\n ('typical', 343),\n ('excuse', 343),\n ('crazy', 342),\n ('ideas', 342),\n ('baby', 342),\n ('loved', 341),\n ('meant', 341),\n ('worked', 340),\n ('fire', 340),\n ('unbelievable', 339),\n ('follow', 339),\n ('theme', 337),\n ('barely', 336),\n ('producers', 336),\n ('twist', 336),\n ('plus', 336),\n ('appear', 336),\n ('directors', 335),\n ('team', 335),\n ('viewers', 333),\n ('leads', 332),\n ('tom', 332),\n ('slasher', 332),\n ('wrote', 331),\n ('villain', 331),\n ('gun', 331),\n ('working', 331),\n ('island', 330),\n ('strong', 330),\n ('open', 330),\n ('realize', 330),\n ('positive', 329),\n ('disappointing', 329),\n ('yeah', 329),\n ('quickly', 329),\n ('weren', 328),\n ('release', 328),\n ('simple', 328),\n ('honestly', 328),\n ('eventually', 327),\n ('period', 327),\n ('tells', 327),\n ('kills', 327),\n ('doctor', 327),\n ('nowhere', 326),\n ('list', 326),\n ('acted', 326),\n ('herself', 326),\n ('dog', 326),\n ('walk', 325),\n ('air', 324),\n ('apart', 324),\n ('makers', 323),\n ('subject', 323),\n ('learn', 322),\n ('fi', 322),\n ('sci', 319),\n ('bother', 319),\n ('admit', 319),\n ('jack', 318),\n ('disappointment', 318),\n ('hands', 318),\n ('note', 318),\n ('certain', 317),\n ('e', 317),\n ('value', 317),\n ('casting', 317),\n ('grade', 316),\n ('peter', 316),\n ('suddenly', 315),\n ('missing', 315),\n ('form', 313),\n ('stick', 313),\n ('previous', 313),\n ('break', 313),\n ('soundtrack', 312),\n ('surprised', 311),\n ('front', 311),\n ('expecting', 311),\n ('parents', 310),\n ('surprise', 310),\n ('relationship', 310),\n ('shoot', 309),\n ('today', 309),\n ('painful', 308),\n ('ways', 308),\n ('leaves', 308),\n ('ended', 308),\n ('creepy', 308),\n ('concept', 308),\n ('somewhere', 308),\n ('vampire', 308),\n ('spend', 307),\n ('th', 307),\n ('future', 306),\n ('difficult', 306),\n ('effect', 306),\n ('fighting', 306),\n ('street', 306),\n ('c', 305),\n ('america', 305),\n ('accent', 304),\n ('truth', 302),\n ('project', 302),\n ('joe', 301),\n ('f', 301),\n ('deal', 301),\n ('indeed', 301),\n ('biggest', 300),\n ('rate', 300),\n ('paul', 299),\n ('japanese', 299),\n ('utterly', 298),\n ('begins', 298),\n ('redeeming', 298),\n ('college', 298),\n ('york', 297),\n ('fairly', 297),\n ('disney', 297),\n ('crew', 296),\n ('create', 296),\n ('cartoon', 296),\n ('revenge', 296),\n ('co', 295),\n ('outside', 295),\n ('computer', 295),\n ('interested', 295),\n ('stage', 295),\n ('considering', 294),\n ('speak', 294),\n ('among', 294),\n ('towards', 293),\n ('channel', 293),\n ('sick', 293),\n ('talented', 292),\n ('cause', 292),\n ('particular', 292),\n ('van', 292),\n ('hair', 292),\n ('bottom', 291),\n ('reasons', 291),\n ('mediocre', 290),\n ('cat', 290),\n ('telling', 290),\n ('supporting', 289),\n ('store', 289),\n ('hoping', 288),\n ('waiting', 288),\n ...]"
     },
     "metadata": {},
     "output_type": "display_data"
    }
   ],
   "source": [
    "display(positive_words_cnt.most_common())\n",
    "display(negative_words_cnt.most_common())"
   ],
   "metadata": {
    "collapsed": false,
    "pycharm": {
     "name": "#%%\n"
    }
   }
  },
  {
   "cell_type": "markdown",
   "source": [
    "- we have now the count of each word in both positive and negative, but we want the words that appear in positive only and doesn't appear in negative and vice versa\n",
    "- away for this to calculate the ration of the word log(positive_cnt/negative_cnt) if positive~negative then it's value will be ~0 if it appears in positive it will be large number greater than 0 and for negative it will be large negative number"
   ],
   "metadata": {
    "collapsed": false
   }
  },
  {
   "cell_type": "code",
   "execution_count": 22,
   "outputs": [],
   "source": [
    "words_pos_neg_ratio=Counter()\n",
    "for word,cnt in all_words_cnt.items():\n",
    "    if cnt<100: #doesn't appear much\n",
    "        continue\n",
    "    words_pos_neg_ratio[word]=np.log((positive_words_cnt[word]+1)/(negative_words_cnt[word]+1))\n"
   ],
   "metadata": {
    "collapsed": false,
    "pycharm": {
     "name": "#%%\n"
    }
   }
  },
  {
   "cell_type": "code",
   "execution_count": 31,
   "outputs": [
    {
     "name": "stdout",
     "output_type": "stream",
     "text": [
      "common words\n",
      "pos and negative ratio for 'the' 0.05902846378582202\n",
      "pos and negative ratio for 'is' 0.13365617519106257\n",
      "\n",
      "Postive words\n",
      "pos and negative ratio for 'wonderful' 1.56527119000835\n",
      "pos and negative ratio for 'wonderful' 1.3929263134236418\n",
      "\n",
      "negative words\n",
      "pos and negative ratio for 'bad' -1.3556946609378695\n",
      "pos and negative ratio for 'bad' -1.7327361287785938\n"
     ]
    }
   ],
   "source": [
    "print(\"common words\")\n",
    "print(f\"pos and negative ratio for 'the' {words_pos_neg_ratio['the']}\")\n",
    "print(f\"pos and negative ratio for 'is' {words_pos_neg_ratio['is']}\")\n",
    "print(\"\\nPostive words\")\n",
    "\n",
    "print(f\"pos and negative ratio for 'wonderful' {words_pos_neg_ratio['wonderful']}\")\n",
    "print(f\"pos and negative ratio for 'wonderful' {words_pos_neg_ratio['amazing']}\")\n",
    "\n",
    "print(\"\\nnegative words\")\n",
    "print(f\"pos and negative ratio for 'bad' {words_pos_neg_ratio['bad']}\")\n",
    "print(f\"pos and negative ratio for 'bad' {words_pos_neg_ratio['worse']}\")\n"
   ],
   "metadata": {
    "collapsed": false,
    "pycharm": {
     "name": "#%%\n"
    }
   }
  },
  {
   "cell_type": "markdown",
   "source": [
    "common words ~ 0\n",
    "positive words >1\n",
    "negative words <-1\n"
   ],
   "metadata": {
    "collapsed": false
   }
  },
  {
   "cell_type": "code",
   "execution_count": 34,
   "outputs": [
    {
     "name": "stdout",
     "output_type": "stream",
     "text": [
      "Positive most common\n"
     ]
    },
    {
     "data": {
      "text/plain": "[('edie', 4.700480365792417),\n ('paulie', 4.085976312551584),\n ('felix', 3.1612467120315646),\n ('polanski', 2.833213344056216),\n ('matthau', 2.8134107167600364),\n ('victoria', 2.6855773452501515),\n ('mildred', 2.6119063405493077),\n ('gandhi', 2.5477075510270306),\n ('flawless', 2.4595888418037104),\n ('superbly', 2.268683541318364),\n ('perfection', 2.1671471220989416),\n ('astaire', 2.1484344131667874),\n ('captures', 2.0438143640366846),\n ('voight', 2.0402208285265546),\n ('wonderfully', 2.02537432040956),\n ('powell', 1.9836504770381602),\n ('brosnan', 1.9636097261547143),\n ('lily', 1.9289605907415401),\n ('bakshi', 1.911718784307034),\n ('lincoln', 1.9079309009900969),\n ('refreshing', 1.8607523407150064),\n ('lemmon', 1.8562979903656263),\n ('breathtaking', 1.8549383708495866),\n ('bourne', 1.8538912503350613),\n ('flynn', 1.807507826196194),\n ('delightful', 1.8044984950054848),\n ('andrews', 1.7841548698428356),\n ('homer', 1.7805861686299298),\n ('soccer', 1.7692866133759964),\n ('beautifully', 1.76537271405486),\n ('lumet', 1.7578579175523736),\n ('elvira', 1.7473077066572211),\n ('underrated', 1.7247487589450947),\n ('gripping', 1.7243181884325225),\n ('superb', 1.71090737259896),\n ('delight', 1.6789639750827108),\n ('sadness', 1.6739764335716716),\n ('welles', 1.6724127115954888),\n ('sinatra', 1.6438393391514328),\n ('touching', 1.6399534563600509),\n ('timeless', 1.6389967146756448),\n ('macy', 1.6326947745983675),\n ('unforgettable', 1.6259672143853108),\n ('favorites', 1.6222586008631619),\n ('hartley', 1.6211339521972916),\n ('extraordinary', 1.6163107917218624),\n ('sullivan', 1.6156684621847364),\n ('stewart', 1.6145530131008707),\n ('brilliantly', 1.5998684614179497),\n ('friendship', 1.5720115069149834),\n ('palma', 1.5664205273504097),\n ('wonderful', 1.56527119000835),\n ('magnificent', 1.5512559570513647),\n ('finest', 1.550597412411167),\n ('ritter', 1.5493339883643948),\n ('jackie', 1.5491181222005777),\n ('tremendous', 1.5279448781829175),\n ('freedom', 1.5141277326297755),\n ('fantastic', 1.5063736090366242),\n ('terrific', 1.505482878385009),\n ('sidney', 1.5007047122976347),\n ('pleasantly', 1.4992347723004862),\n ('mann', 1.4992347723004862),\n ('noir', 1.4968362355197145),\n ('outstanding', 1.493925025312256),\n ('nancy', 1.4934389985712184),\n ('marie', 1.4873904779912595),\n ('marvelous', 1.4816045409242156),\n ('ruth', 1.4696759700589417),\n ('excellent', 1.4653478511838256),\n ('stanwyck', 1.4488147181012245),\n ('widmark', 1.442989704796436),\n ('splendid', 1.4370666864933137),\n ('chan', 1.4291143583028187),\n ('exceptional', 1.4284947156102672),\n ('tender', 1.423108334242607),\n ('gentle', 1.418382675671391),\n ('poignant', 1.410199881973445),\n ('gem', 1.3966571481554373),\n ('captivating', 1.3966571481554373),\n ('fisher', 1.3958638121360414),\n ('davies', 1.3958638121360414),\n ('chilling', 1.3936204012119635),\n ('amazing', 1.3929263134236418),\n ('darker', 1.3758230612525952),\n ('april', 1.3621968095408301),\n ('blake', 1.3531421538029902),\n ('kelly', 1.3490940774338),\n ('overlooked', 1.3388921222253067),\n ('ralph', 1.3366974199805186),\n ('bette', 1.3237740041385566),\n ('hoffman', 1.3217558399823195),\n ('cole', 1.3217558399823195),\n ('shines', 1.3133875903118029),\n ('powerful', 1.3020133612531182),\n ('notch', 1.3013949173334043),\n ('winters', 1.295322582914164),\n ('pitt', 1.292768303109067),\n ('remarkable', 1.2924756059022358),\n ('vivid', 1.2878542883066382)]"
     },
     "metadata": {},
     "output_type": "display_data"
    }
   ],
   "source": [
    "print(\"Positive most common\")\n",
    "display(words_pos_neg_ratio.most_common(100))"
   ],
   "metadata": {
    "collapsed": false,
    "pycharm": {
     "name": "#%%\n"
    }
   }
  },
  {
   "cell_type": "markdown",
   "source": [
    "words like magnificent and amazing, wonderful, appear from top 100"
   ],
   "metadata": {
    "collapsed": false
   }
  },
  {
   "cell_type": "code",
   "execution_count": 37,
   "outputs": [
    {
     "name": "stdout",
     "output_type": "stream",
     "text": [
      "Negative most common\n"
     ]
    },
    {
     "data": {
      "text/plain": "[('boll', -4.276666119016055),\n ('uwe', -3.9318256327243257),\n ('seagal', -3.4210000089583352),\n ('unwatchable', -3.0349529867072724),\n ('stinker', -2.9856819377004897),\n ('mst', -2.8449093838194073),\n ('incoherent', -2.803360380906535),\n ('unfunny', -2.635081181235619),\n ('waste', -2.6093342281630525),\n ('blah', -2.501435951739211),\n ('pointless', -2.430613567421338),\n ('horrid', -2.379546134130174),\n ('atrocious', -2.36528368720961),\n ('redeeming', -2.3331477434042123),\n ('worst', -2.283027494964281),\n ('prom', -2.2655438213136967),\n ('drivel', -2.26002547857525),\n ('lousy', -2.2587824703356527),\n ('laughable', -2.2396712675834767),\n ('awful', -2.22125951150762),\n ('poorly', -2.206570439754457),\n ('remotely', -2.145931282948669),\n ('wasting', -2.1400661634962708),\n ('existent', -2.02537432040956),\n ('lame', -1.970717622759581),\n ('sucks', -1.9580806846755685),\n ('insult', -1.94060509682562),\n ('boredom', -1.9379419794061366),\n ('miserably', -1.927891643552635),\n ('uninspired', -1.9187591599893623),\n ('uninteresting', -1.9066894359020319),\n ('horrible', -1.9038282036209997),\n ('pathetic', -1.8841327893590702),\n ('godzilla', -1.8827312474337816),\n ('unconvincing', -1.8748743759385615),\n ('amateurish', -1.8744511850731684),\n ('appalling', -1.8672670217362002),\n ('gadget', -1.8666607774011728),\n ('idiotic', -1.8484548129046003),\n ('unintentional', -1.845826690498331),\n ('stupidity', -1.836211231798889),\n ('wasted', -1.82537608002704),\n ('crap', -1.821206670554356),\n ('cardboard', -1.791759469228055),\n ('tedious', -1.7707060600302227),\n ('insulting', -1.7650912221458936),\n ('dreadful', -1.7443572303334711),\n ('badly', -1.743474228068593),\n ('worse', -1.7327361287785938),\n ('terrible', -1.7250680947293828),\n ('suck', -1.7147984280919266),\n ('dire', -1.709521370991083),\n ('mess', -1.6801454845983868),\n ('embarrassing', -1.6739764335716716),\n ('garbage', -1.6731199024700552),\n ('stupid', -1.6516020715417972),\n ('pile', -1.6384254493073527),\n ('vampires', -1.5950491749820006),\n ('ashamed', -1.5869650565820417),\n ('dull', -1.5775048653310912),\n ('worthless', -1.5723966407537513),\n ('avoid', -1.568304924286708),\n ('wooden', -1.552685095841651),\n ('inept', -1.5496194172231903),\n ('forgettable', -1.5248805244060373),\n ('crappy', -1.5141277326297755),\n ('ridiculous', -1.502813972729502),\n ('bat', -1.5004867286455454),\n ('fulci', -1.498772344546581),\n ('excuse', -1.4968362355197145),\n ('whatsoever', -1.494616588272045),\n ('rubbish', -1.48870936654796),\n ('boring', -1.4879804697340995),\n ('unbelievably', -1.4733057381095205),\n ('junk', -1.466337068793427),\n ('turkey', -1.4593194961347804),\n ('shark', -1.449095262358921),\n ('flop', -1.4441139320087168),\n ('topless', -1.4350845252893227),\n ('useless', -1.4350845252893227),\n ('ripped', -1.4315509527080115),\n ('ridiculously', -1.4307461236907244),\n ('embarrassed', -1.4246132254220272),\n ('seed', -1.423108334242607),\n ('costs', -1.418382675671391),\n ('dumb', -1.415281897993143),\n ('bother', -1.4116121691041805),\n ('rambo', -1.3971052772241062),\n ('horrendous', -1.3955110162248145),\n ('horribly', -1.3920914788042167),\n ('plastic', -1.3862943611198906),\n ('hideous', -1.3862943611198906),\n ('fest', -1.3773256911371303),\n ('disjointed', -1.374318170073175),\n ('ludicrous', -1.3723081191451507),\n ('bland', -1.3682758556172123),\n ('annoying', -1.3614791920001665),\n ('unintentionally', -1.3591433720539396),\n ('mildly', -1.3581234841531944),\n ('obnoxious', -1.3564413979702095)]"
     },
     "metadata": {},
     "output_type": "display_data"
    }
   ],
   "source": [
    "print(\"Negative most common\")\n",
    "display(list(reversed(words_pos_neg_ratio.most_common()))[0:100])"
   ],
   "metadata": {
    "collapsed": false,
    "pycharm": {
     "name": "#%%\n"
    }
   }
  },
  {
   "cell_type": "markdown",
   "source": [
    "wasting,awful,boredom,horrible appear in negative most common"
   ],
   "metadata": {
    "collapsed": false
   }
  }
 ],
 "metadata": {
  "kernelspec": {
   "display_name": "Python 3 (ipykernel)",
   "language": "python",
   "name": "python3"
  },
  "language_info": {
   "codemirror_mode": {
    "name": "ipython",
    "version": 3
   },
   "file_extension": ".py",
   "mimetype": "text/x-python",
   "name": "python",
   "nbconvert_exporter": "python",
   "pygments_lexer": "ipython3",
   "version": "3.10.4"
  }
 },
 "nbformat": 4,
 "nbformat_minor": 1
}